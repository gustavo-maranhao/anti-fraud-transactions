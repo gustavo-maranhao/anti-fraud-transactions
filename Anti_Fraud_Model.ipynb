{
  "nbformat": 4,
  "nbformat_minor": 0,
  "metadata": {
    "colab": {
      "provenance": [],
      "authorship_tag": "ABX9TyOwqO09g2+SnfRp2Y488WE2",
      "include_colab_link": true
    },
    "kernelspec": {
      "name": "python3",
      "display_name": "Python 3"
    },
    "language_info": {
      "name": "python"
    }
  },
  "cells": [
    {
      "cell_type": "markdown",
      "metadata": {
        "id": "view-in-github",
        "colab_type": "text"
      },
      "source": [
        "<a href=\"https://colab.research.google.com/github/gustavo-maranhao/anti-fraud-transactions/blob/main/Anti_Fraud_Model.ipynb\" target=\"_parent\"><img src=\"https://colab.research.google.com/assets/colab-badge.svg\" alt=\"Open In Colab\"/></a>"
      ]
    },
    {
      "cell_type": "code",
      "source": [
        "import json\n",
        "import pandas as pd\n",
        "from datetime import datetime, timedelta\n",
        "import seaborn as sns\n",
        "import matplotlib.pyplot as plt\n",
        "\n",
        "# Loading the CSV file\n",
        "df = pd.read_csv('https://raw.githubusercontent.com/gustavo-maranhao/anti-fraud-transactions/main/database.csv')"
      ],
      "metadata": {
        "id": "JuT55ej3RYv3"
      },
      "execution_count": 32,
      "outputs": []
    },
    {
      "cell_type": "code",
      "source": [
        "# Adding \"BIN\" column\n",
        "df['card_bin'] = df['card_number'].str[:6]\n",
        "df[\"transaction_date\"] = pd.to_datetime(df[\"transaction_date\"])\n"
      ],
      "metadata": {
        "id": "M4kLMKgORbpc"
      },
      "execution_count": 33,
      "outputs": []
    },
    {
      "cell_type": "code",
      "source": [
        "# Percentage of chargebacks per BIN\n",
        "df = (\n",
        "    df\n",
        "    .assign(\n",
        "        sum_bin = lambda x: x.groupby('card_bin')['has_cbk'].transform('sum'),\n",
        "        total_bin = lambda x: x.groupby('card_bin')['has_cbk'].transform('size'),\n",
        "        percentual_bin = lambda x: round((x['sum_bin']/x['total_bin']) * 100, 2)\n",
        "    )\n",
        ")"
      ],
      "metadata": {
        "id": "IwnA5VxrUqST"
      },
      "execution_count": 34,
      "outputs": []
    },
    {
      "cell_type": "code",
      "source": [
        "# Display descriptive statistics of percentage of chargebacks per BIN\n",
        "(\n",
        "    df\n",
        "    .groupby('card_bin', as_index = False)\n",
        "    .agg(\n",
        "      sum_bin = ('has_cbk', 'sum'),\n",
        "      total_bin = ('has_cbk', 'size')\n",
        "    )\n",
        "    .assign(\n",
        "        percentual = lambda x: round((x['sum_bin']/x['total_bin']) * 100, 2)\n",
        "    )\n",
        "    .query('total_bin >= 7')\n",
        "    .sort_values('percentual')\n",
        ")['percentual'].describe()"
      ],
      "metadata": {
        "id": "S6YgUGJSW4_G",
        "colab": {
          "base_uri": "https://localhost:8080/"
        },
        "outputId": "c7c87ef6-f305-4f0f-c539-fdc676c432db"
      },
      "execution_count": 35,
      "outputs": [
        {
          "output_type": "execute_result",
          "data": {
            "text/plain": [
              "count    115.000000\n",
              "mean      12.888957\n",
              "std       17.913703\n",
              "min        0.000000\n",
              "25%        0.000000\n",
              "50%        5.260000\n",
              "75%       21.540000\n",
              "max      100.000000\n",
              "Name: percentual, dtype: float64"
            ]
          },
          "metadata": {},
          "execution_count": 35
        }
      ]
    },
    {
      "cell_type": "code",
      "source": [
        "# Plot histogram of percentage of chargebacks per BIN\n",
        "sns.displot(data = df.query('total_bin >= 5'), x = 'percentual_bin', hue ='has_cbk')"
      ],
      "metadata": {
        "id": "ELjAJJvzWnSe",
        "colab": {
          "base_uri": "https://localhost:8080/",
          "height": 524
        },
        "outputId": "30917fd6-a999-40f0-e262-fcefa22deec6"
      },
      "execution_count": 36,
      "outputs": [
        {
          "output_type": "execute_result",
          "data": {
            "text/plain": [
              "<seaborn.axisgrid.FacetGrid at 0x7f41e9ee79d0>"
            ]
          },
          "metadata": {},
          "execution_count": 36
        },
        {
          "output_type": "display_data",
          "data": {
            "text/plain": [
              "<Figure size 584.875x500 with 1 Axes>"
            ],
            "image/png": "[encoded data removed]"
          },
          "metadata": {}
        }
      ]
    },
    {
      "cell_type": "code",
      "source": [
        "# Display the number of unique users per card number\n",
        "df.groupby('card_number', as_index = False)['user_id'].nunique().sort_values('user_id')"
      ],
      "metadata": {
        "id": "MNRhBOQiSW_v",
        "colab": {
          "base_uri": "https://localhost:8080/",
          "height": 423
        },
        "outputId": "a600d019-89ff-4fd1-c55e-8dfbd70347a6"
      },
      "execution_count": 37,
      "outputs": [
        {
          "output_type": "execute_result",
          "data": {
            "text/plain": [
              "           card_number  user_id\n",
              "0     222763******3026        1\n",
              "1939  536805******6868        1\n",
              "1940  536805******6977        1\n",
              "1941  536805******7429        1\n",
              "1942  536832******9759        1\n",
              "...                ...      ...\n",
              "2744  606282******4880        2\n",
              "261   412177******1138        2\n",
              "2490  550209******6408        2\n",
              "2493  550209******6420        3\n",
              "876   496045******1160        4\n",
              "\n",
              "[2925 rows x 2 columns]"
            ],
            "text/html": [
              "\n",
              "  <div id=\"df-864d21ea-97f5-43d7-86e5-dedbd56657eb\">\n",
              "    <div class=\"colab-df-container\">\n",
              "      <div>\n",
              "<style scoped>\n",
              "    .dataframe tbody tr th:only-of-type {\n",
              "        vertical-align: middle;\n",
              "    }\n",
              "\n",
              "    .dataframe tbody tr th {\n",
              "        vertical-align: top;\n",
              "    }\n",
              "\n",
              "    .dataframe thead th {\n",
              "        text-align: right;\n",
              "    }\n",
              "</style>\n",
              "<table border=\"1\" class=\"dataframe\">\n",
              "  <thead>\n",
              "    <tr style=\"text-align: right;\">\n",
              "      <th></th>\n",
              "      <th>card_number</th>\n",
              "      <th>user_id</th>\n",
              "    </tr>\n",
              "  </thead>\n",
              "  <tbody>\n",
              "    <tr>\n",
              "      <th>0</th>\n",
              "      <td>222763******3026</td>\n",
              "      <td>1</td>\n",
              "    </tr>\n",
              "    <tr>\n",
              "      <th>1939</th>\n",
              "      <td>536805******6868</td>\n",
              "      <td>1</td>\n",
              "    </tr>\n",
              "    <tr>\n",
              "      <th>1940</th>\n",
              "      <td>536805******6977</td>\n",
              "      <td>1</td>\n",
              "    </tr>\n",
              "    <tr>\n",
              "      <th>1941</th>\n",
              "      <td>536805******7429</td>\n",
              "      <td>1</td>\n",
              "    </tr>\n",
              "    <tr>\n",
              "      <th>1942</th>\n",
              "      <td>536832******9759</td>\n",
              "      <td>1</td>\n",
              "    </tr>\n",
              "    <tr>\n",
              "      <th>...</th>\n",
              "      <td>...</td>\n",
              "      <td>...</td>\n",
              "    </tr>\n",
              "    <tr>\n",
              "      <th>2744</th>\n",
              "      <td>606282******4880</td>\n",
              "      <td>2</td>\n",
              "    </tr>\n",
              "    <tr>\n",
              "      <th>261</th>\n",
              "      <td>412177******1138</td>\n",
              "      <td>2</td>\n",
              "    </tr>\n",
              "    <tr>\n",
              "      <th>2490</th>\n",
              "      <td>550209******6408</td>\n",
              "      <td>2</td>\n",
              "    </tr>\n",
              "    <tr>\n",
              "      <th>2493</th>\n",
              "      <td>550209******6420</td>\n",
              "      <td>3</td>\n",
              "    </tr>\n",
              "    <tr>\n",
              "      <th>876</th>\n",
              "      <td>496045******1160</td>\n",
              "      <td>4</td>\n",
              "    </tr>\n",
              "  </tbody>\n",
              "</table>\n",
              "<p>2925 rows × 2 columns</p>\n",
              "</div>\n",
              "      <button class=\"colab-df-convert\" onclick=\"convertToInteractive('df-864d21ea-97f5-43d7-86e5-dedbd56657eb')\"\n",
              "              title=\"Convert this dataframe to an interactive table.\"\n",
              "              style=\"display:none;\">\n",
              "        \n",
              "  <svg xmlns=\"http://www.w3.org/2000/svg\" height=\"24px\"viewBox=\"0 0 24 24\"\n",
              "       width=\"24px\">\n",
              "    <path d=\"M0 0h24v24H0V0z\" fill=\"none\"/>\n",
              "    <path d=\"M18.56 5.44l.94 2.06.94-2.06 2.06-.94-2.06-.94-.94-2.06-.94 2.06-2.06.94zm-11 1L8.5 8.5l.94-2.06 2.06-.94-2.06-.94L8.5 2.5l-.94 2.06-2.06.94zm10 10l.94 2.06.94-2.06 2.06-.94-2.06-.94-.94-2.06-.94 2.06-2.06.94z\"/><path d=\"M17.41 7.96l-1.37-1.37c-.4-.4-.92-.59-1.43-.59-.52 0-1.04.2-1.43.59L10.3 9.45l-7.72 7.72c-.78.78-.78 2.05 0 2.83L4 21.41c.39.39.9.59 1.41.59.51 0 1.02-.2 1.41-.59l7.78-7.78 2.81-2.81c.8-.78.8-2.07 0-2.86zM5.41 20L4 18.59l7.72-7.72 1.47 1.35L5.41 20z\"/>\n",
              "  </svg>\n",
              "      </button>\n",
              "      \n",
              "  <style>\n",
              "    .colab-df-container {\n",
              "      display:flex;\n",
              "      flex-wrap:wrap;\n",
              "      gap: 12px;\n",
              "    }\n",
              "\n",
              "    .colab-df-convert {\n",
              "      background-color: #E8F0FE;\n",
              "      border: none;\n",
              "      border-radius: 50%;\n",
              "      cursor: pointer;\n",
              "      display: none;\n",
              "      fill: #1967D2;\n",
              "      height: 32px;\n",
              "      padding: 0 0 0 0;\n",
              "      width: 32px;\n",
              "    }\n",
              "\n",
              "    .colab-df-convert:hover {\n",
              "      background-color: #E2EBFA;\n",
              "      box-shadow: 0px 1px 2px rgba(60, 64, 67, 0.3), 0px 1px 3px 1px rgba(60, 64, 67, 0.15);\n",
              "      fill: #174EA6;\n",
              "    }\n",
              "\n",
              "    [theme=dark] .colab-df-convert {\n",
              "      background-color: #3B4455;\n",
              "      fill: #D2E3FC;\n",
              "    }\n",
              "\n",
              "    [theme=dark] .colab-df-convert:hover {\n",
              "      background-color: #434B5C;\n",
              "      box-shadow: 0px 1px 3px 1px rgba(0, 0, 0, 0.15);\n",
              "      filter: drop-shadow(0px 1px 2px rgba(0, 0, 0, 0.3));\n",
              "      fill: #FFFFFF;\n",
              "    }\n",
              "  </style>\n",
              "\n",
              "      <script>\n",
              "        const buttonEl =\n",
              "          document.querySelector('#df-864d21ea-97f5-43d7-86e5-dedbd56657eb button.colab-df-convert');\n",
              "        buttonEl.style.display =\n",
              "          google.colab.kernel.accessAllowed ? 'block' : 'none';\n",
              "\n",
              "        async function convertToInteractive(key) {\n",
              "          const element = document.querySelector('#df-864d21ea-97f5-43d7-86e5-dedbd56657eb');\n",
              "          const dataTable =\n",
              "            await google.colab.kernel.invokeFunction('convertToInteractive',\n",
              "                                                     [key], {});\n",
              "          if (!dataTable) return;\n",
              "\n",
              "          const docLinkHtml = 'Like what you see? Visit the ' +\n",
              "            '<a target=\"_blank\" href=https://colab.research.google.com/notebooks/data_table.ipynb>data table notebook</a>'\n",
              "            + ' to learn more about interactive tables.';\n",
              "          element.innerHTML = '';\n",
              "          dataTable['output_type'] = 'display_data';\n",
              "          await google.colab.output.renderOutput(dataTable, element);\n",
              "          const docLink = document.createElement('div');\n",
              "          docLink.innerHTML = docLinkHtml;\n",
              "          element.appendChild(docLink);\n",
              "        }\n",
              "      </script>\n",
              "    </div>\n",
              "  </div>\n",
              "  "
            ]
          },
          "metadata": {},
          "execution_count": 37
        }
      ]
    },
    {
      "cell_type": "code",
      "source": [
        "# Display the number of unique card numbers per user\n",
        "df.groupby('user_id', as_index = False)['card_number'].nunique().sort_values('card_number')"
      ],
      "metadata": {
        "id": "Y1f1bnf-SKra",
        "colab": {
          "base_uri": "https://localhost:8080/",
          "height": 423
        },
        "outputId": "254c4ae9-254b-4006-db46-476666d9f351"
      },
      "execution_count": 38,
      "outputs": [
        {
          "output_type": "execute_result",
          "data": {
            "text/plain": [
              "      user_id  card_number\n",
              "0           6            1\n",
              "1776    67558            1\n",
              "1777    67650            1\n",
              "1778    67681            1\n",
              "1779    67698            1\n",
              "...       ...          ...\n",
              "2582    96025           10\n",
              "2085    78262           10\n",
              "2103    79054           15\n",
              "2448    91637           22\n",
              "302     11750           31\n",
              "\n",
              "[2704 rows x 2 columns]"
            ],
            "text/html": [
              "\n",
              "  <div id=\"df-2ab0e129-dde7-4c55-9287-77a27c852afe\">\n",
              "    <div class=\"colab-df-container\">\n",
              "      <div>\n",
              "<style scoped>\n",
              "    .dataframe tbody tr th:only-of-type {\n",
              "        vertical-align: middle;\n",
              "    }\n",
              "\n",
              "    .dataframe tbody tr th {\n",
              "        vertical-align: top;\n",
              "    }\n",
              "\n",
              "    .dataframe thead th {\n",
              "        text-align: right;\n",
              "    }\n",
              "</style>\n",
              "<table border=\"1\" class=\"dataframe\">\n",
              "  <thead>\n",
              "    <tr style=\"text-align: right;\">\n",
              "      <th></th>\n",
              "      <th>user_id</th>\n",
              "      <th>card_number</th>\n",
              "    </tr>\n",
              "  </thead>\n",
              "  <tbody>\n",
              "    <tr>\n",
              "      <th>0</th>\n",
              "      <td>6</td>\n",
              "      <td>1</td>\n",
              "    </tr>\n",
              "    <tr>\n",
              "      <th>1776</th>\n",
              "      <td>67558</td>\n",
              "      <td>1</td>\n",
              "    </tr>\n",
              "    <tr>\n",
              "      <th>1777</th>\n",
              "      <td>67650</td>\n",
              "      <td>1</td>\n",
              "    </tr>\n",
              "    <tr>\n",
              "      <th>1778</th>\n",
              "      <td>67681</td>\n",
              "      <td>1</td>\n",
              "    </tr>\n",
              "    <tr>\n",
              "      <th>1779</th>\n",
              "      <td>67698</td>\n",
              "      <td>1</td>\n",
              "    </tr>\n",
              "    <tr>\n",
              "      <th>...</th>\n",
              "      <td>...</td>\n",
              "      <td>...</td>\n",
              "    </tr>\n",
              "    <tr>\n",
              "      <th>2582</th>\n",
              "      <td>96025</td>\n",
              "      <td>10</td>\n",
              "    </tr>\n",
              "    <tr>\n",
              "      <th>2085</th>\n",
              "      <td>78262</td>\n",
              "      <td>10</td>\n",
              "    </tr>\n",
              "    <tr>\n",
              "      <th>2103</th>\n",
              "      <td>79054</td>\n",
              "      <td>15</td>\n",
              "    </tr>\n",
              "    <tr>\n",
              "      <th>2448</th>\n",
              "      <td>91637</td>\n",
              "      <td>22</td>\n",
              "    </tr>\n",
              "    <tr>\n",
              "      <th>302</th>\n",
              "      <td>11750</td>\n",
              "      <td>31</td>\n",
              "    </tr>\n",
              "  </tbody>\n",
              "</table>\n",
              "<p>2704 rows × 2 columns</p>\n",
              "</div>\n",
              "      <button class=\"colab-df-convert\" onclick=\"convertToInteractive('df-2ab0e129-dde7-4c55-9287-77a27c852afe')\"\n",
              "              title=\"Convert this dataframe to an interactive table.\"\n",
              "              style=\"display:none;\">\n",
              "        \n",
              "  <svg xmlns=\"http://www.w3.org/2000/svg\" height=\"24px\"viewBox=\"0 0 24 24\"\n",
              "       width=\"24px\">\n",
              "    <path d=\"M0 0h24v24H0V0z\" fill=\"none\"/>\n",
              "    <path d=\"M18.56 5.44l.94 2.06.94-2.06 2.06-.94-2.06-.94-.94-2.06-.94 2.06-2.06.94zm-11 1L8.5 8.5l.94-2.06 2.06-.94-2.06-.94L8.5 2.5l-.94 2.06-2.06.94zm10 10l.94 2.06.94-2.06 2.06-.94-2.06-.94-.94-2.06-.94 2.06-2.06.94z\"/><path d=\"M17.41 7.96l-1.37-1.37c-.4-.4-.92-.59-1.43-.59-.52 0-1.04.2-1.43.59L10.3 9.45l-7.72 7.72c-.78.78-.78 2.05 0 2.83L4 21.41c.39.39.9.59 1.41.59.51 0 1.02-.2 1.41-.59l7.78-7.78 2.81-2.81c.8-.78.8-2.07 0-2.86zM5.41 20L4 18.59l7.72-7.72 1.47 1.35L5.41 20z\"/>\n",
              "  </svg>\n",
              "      </button>\n",
              "      \n",
              "  <style>\n",
              "    .colab-df-container {\n",
              "      display:flex;\n",
              "      flex-wrap:wrap;\n",
              "      gap: 12px;\n",
              "    }\n",
              "\n",
              "    .colab-df-convert {\n",
              "      background-color: #E8F0FE;\n",
              "      border: none;\n",
              "      border-radius: 50%;\n",
              "      cursor: pointer;\n",
              "      display: none;\n",
              "      fill: #1967D2;\n",
              "      height: 32px;\n",
              "      padding: 0 0 0 0;\n",
              "      width: 32px;\n",
              "    }\n",
              "\n",
              "    .colab-df-convert:hover {\n",
              "      background-color: #E2EBFA;\n",
              "      box-shadow: 0px 1px 2px rgba(60, 64, 67, 0.3), 0px 1px 3px 1px rgba(60, 64, 67, 0.15);\n",
              "      fill: #174EA6;\n",
              "    }\n",
              "\n",
              "    [theme=dark] .colab-df-convert {\n",
              "      background-color: #3B4455;\n",
              "      fill: #D2E3FC;\n",
              "    }\n",
              "\n",
              "    [theme=dark] .colab-df-convert:hover {\n",
              "      background-color: #434B5C;\n",
              "      box-shadow: 0px 1px 3px 1px rgba(0, 0, 0, 0.15);\n",
              "      filter: drop-shadow(0px 1px 2px rgba(0, 0, 0, 0.3));\n",
              "      fill: #FFFFFF;\n",
              "    }\n",
              "  </style>\n",
              "\n",
              "      <script>\n",
              "        const buttonEl =\n",
              "          document.querySelector('#df-2ab0e129-dde7-4c55-9287-77a27c852afe button.colab-df-convert');\n",
              "        buttonEl.style.display =\n",
              "          google.colab.kernel.accessAllowed ? 'block' : 'none';\n",
              "\n",
              "        async function convertToInteractive(key) {\n",
              "          const element = document.querySelector('#df-2ab0e129-dde7-4c55-9287-77a27c852afe');\n",
              "          const dataTable =\n",
              "            await google.colab.kernel.invokeFunction('convertToInteractive',\n",
              "                                                     [key], {});\n",
              "          if (!dataTable) return;\n",
              "\n",
              "          const docLinkHtml = 'Like what you see? Visit the ' +\n",
              "            '<a target=\"_blank\" href=https://colab.research.google.com/notebooks/data_table.ipynb>data table notebook</a>'\n",
              "            + ' to learn more about interactive tables.';\n",
              "          element.innerHTML = '';\n",
              "          dataTable['output_type'] = 'display_data';\n",
              "          await google.colab.output.renderOutput(dataTable, element);\n",
              "          const docLink = document.createElement('div');\n",
              "          docLink.innerHTML = docLinkHtml;\n",
              "          element.appendChild(docLink);\n",
              "        }\n",
              "      </script>\n",
              "    </div>\n",
              "  </div>\n",
              "  "
            ]
          },
          "metadata": {},
          "execution_count": 38
        }
      ]
    },
    {
      "cell_type": "code",
      "source": [
        "# Display descriptive statistics of transaction amount grouped by chargeback status\n",
        "df.groupby('has_cbk')['transaction_amount'].describe()"
      ],
      "metadata": {
        "id": "GKw2Fhr6TEuf",
        "colab": {
          "base_uri": "https://localhost:8080/",
          "height": 143
        },
        "outputId": "626c05bf-e701-4f48-f8d1-753e6f8b4945"
      },
      "execution_count": 39,
      "outputs": [
        {
          "output_type": "execute_result",
          "data": {
            "text/plain": [
              "          count         mean          std   min      25%      50%        75%  \\\n",
              "has_cbk                                                                        \n",
              "False    2808.0   672.324380   797.463853  1.22  191.285  360.315   812.5775   \n",
              "True      391.0  1453.571918  1169.491346  2.89  565.580  999.470  2140.6800   \n",
              "\n",
              "             max  \n",
              "has_cbk           \n",
              "False    4091.83  \n",
              "True     4097.21  "
            ],
            "text/html": [
              "\n",
              "  <div id=\"df-80d1c9ac-a1de-4330-9531-0feddfb6c31c\">\n",
              "    <div class=\"colab-df-container\">\n",
              "      <div>\n",
              "<style scoped>\n",
              "    .dataframe tbody tr th:only-of-type {\n",
              "        vertical-align: middle;\n",
              "    }\n",
              "\n",
              "    .dataframe tbody tr th {\n",
              "        vertical-align: top;\n",
              "    }\n",
              "\n",
              "    .dataframe thead th {\n",
              "        text-align: right;\n",
              "    }\n",
              "</style>\n",
              "<table border=\"1\" class=\"dataframe\">\n",
              "  <thead>\n",
              "    <tr style=\"text-align: right;\">\n",
              "      <th></th>\n",
              "      <th>count</th>\n",
              "      <th>mean</th>\n",
              "      <th>std</th>\n",
              "      <th>min</th>\n",
              "      <th>25%</th>\n",
              "      <th>50%</th>\n",
              "      <th>75%</th>\n",
              "      <th>max</th>\n",
              "    </tr>\n",
              "    <tr>\n",
              "      <th>has_cbk</th>\n",
              "      <th></th>\n",
              "      <th></th>\n",
              "      <th></th>\n",
              "      <th></th>\n",
              "      <th></th>\n",
              "      <th></th>\n",
              "      <th></th>\n",
              "      <th></th>\n",
              "    </tr>\n",
              "  </thead>\n",
              "  <tbody>\n",
              "    <tr>\n",
              "      <th>False</th>\n",
              "      <td>2808.0</td>\n",
              "      <td>672.324380</td>\n",
              "      <td>797.463853</td>\n",
              "      <td>1.22</td>\n",
              "      <td>191.285</td>\n",
              "      <td>360.315</td>\n",
              "      <td>812.5775</td>\n",
              "      <td>4091.83</td>\n",
              "    </tr>\n",
              "    <tr>\n",
              "      <th>True</th>\n",
              "      <td>391.0</td>\n",
              "      <td>1453.571918</td>\n",
              "      <td>1169.491346</td>\n",
              "      <td>2.89</td>\n",
              "      <td>565.580</td>\n",
              "      <td>999.470</td>\n",
              "      <td>2140.6800</td>\n",
              "      <td>4097.21</td>\n",
              "    </tr>\n",
              "  </tbody>\n",
              "</table>\n",
              "</div>\n",
              "      <button class=\"colab-df-convert\" onclick=\"convertToInteractive('df-80d1c9ac-a1de-4330-9531-0feddfb6c31c')\"\n",
              "              title=\"Convert this dataframe to an interactive table.\"\n",
              "              style=\"display:none;\">\n",
              "        \n",
              "  <svg xmlns=\"http://www.w3.org/2000/svg\" height=\"24px\"viewBox=\"0 0 24 24\"\n",
              "       width=\"24px\">\n",
              "    <path d=\"M0 0h24v24H0V0z\" fill=\"none\"/>\n",
              "    <path d=\"M18.56 5.44l.94 2.06.94-2.06 2.06-.94-2.06-.94-.94-2.06-.94 2.06-2.06.94zm-11 1L8.5 8.5l.94-2.06 2.06-.94-2.06-.94L8.5 2.5l-.94 2.06-2.06.94zm10 10l.94 2.06.94-2.06 2.06-.94-2.06-.94-.94-2.06-.94 2.06-2.06.94z\"/><path d=\"M17.41 7.96l-1.37-1.37c-.4-.4-.92-.59-1.43-.59-.52 0-1.04.2-1.43.59L10.3 9.45l-7.72 7.72c-.78.78-.78 2.05 0 2.83L4 21.41c.39.39.9.59 1.41.59.51 0 1.02-.2 1.41-.59l7.78-7.78 2.81-2.81c.8-.78.8-2.07 0-2.86zM5.41 20L4 18.59l7.72-7.72 1.47 1.35L5.41 20z\"/>\n",
              "  </svg>\n",
              "      </button>\n",
              "      \n",
              "  <style>\n",
              "    .colab-df-container {\n",
              "      display:flex;\n",
              "      flex-wrap:wrap;\n",
              "      gap: 12px;\n",
              "    }\n",
              "\n",
              "    .colab-df-convert {\n",
              "      background-color: #E8F0FE;\n",
              "      border: none;\n",
              "      border-radius: 50%;\n",
              "      cursor: pointer;\n",
              "      display: none;\n",
              "      fill: #1967D2;\n",
              "      height: 32px;\n",
              "      padding: 0 0 0 0;\n",
              "      width: 32px;\n",
              "    }\n",
              "\n",
              "    .colab-df-convert:hover {\n",
              "      background-color: #E2EBFA;\n",
              "      box-shadow: 0px 1px 2px rgba(60, 64, 67, 0.3), 0px 1px 3px 1px rgba(60, 64, 67, 0.15);\n",
              "      fill: #174EA6;\n",
              "    }\n",
              "\n",
              "    [theme=dark] .colab-df-convert {\n",
              "      background-color: #3B4455;\n",
              "      fill: #D2E3FC;\n",
              "    }\n",
              "\n",
              "    [theme=dark] .colab-df-convert:hover {\n",
              "      background-color: #434B5C;\n",
              "      box-shadow: 0px 1px 3px 1px rgba(0, 0, 0, 0.15);\n",
              "      filter: drop-shadow(0px 1px 2px rgba(0, 0, 0, 0.3));\n",
              "      fill: #FFFFFF;\n",
              "    }\n",
              "  </style>\n",
              "\n",
              "      <script>\n",
              "        const buttonEl =\n",
              "          document.querySelector('#df-80d1c9ac-a1de-4330-9531-0feddfb6c31c button.colab-df-convert');\n",
              "        buttonEl.style.display =\n",
              "          google.colab.kernel.accessAllowed ? 'block' : 'none';\n",
              "\n",
              "        async function convertToInteractive(key) {\n",
              "          const element = document.querySelector('#df-80d1c9ac-a1de-4330-9531-0feddfb6c31c');\n",
              "          const dataTable =\n",
              "            await google.colab.kernel.invokeFunction('convertToInteractive',\n",
              "                                                     [key], {});\n",
              "          if (!dataTable) return;\n",
              "\n",
              "          const docLinkHtml = 'Like what you see? Visit the ' +\n",
              "            '<a target=\"_blank\" href=https://colab.research.google.com/notebooks/data_table.ipynb>data table notebook</a>'\n",
              "            + ' to learn more about interactive tables.';\n",
              "          element.innerHTML = '';\n",
              "          dataTable['output_type'] = 'display_data';\n",
              "          await google.colab.output.renderOutput(dataTable, element);\n",
              "          const docLink = document.createElement('div');\n",
              "          docLink.innerHTML = docLinkHtml;\n",
              "          element.appendChild(docLink);\n",
              "        }\n",
              "      </script>\n",
              "    </div>\n",
              "  </div>\n",
              "  "
            ]
          },
          "metadata": {},
          "execution_count": 39
        }
      ]
    },
    {
      "cell_type": "code",
      "source": [
        "# Display the number of unique users with transaction amount > 1000 and percentage of chargebacks per BIN > 22 and has_cbk == True\n",
        "df.query('transaction_amount > 1000 and percentual_bin > 22 and has_cbk == True')['user_id'].nunique()"
      ],
      "metadata": {
        "id": "U3oZ8f1zZcSg",
        "colab": {
          "base_uri": "https://localhost:8080/"
        },
        "outputId": "afcaa9a0-7f8a-47d0-af22-af65991b380a"
      },
      "execution_count": 40,
      "outputs": [
        {
          "output_type": "execute_result",
          "data": {
            "text/plain": [
              "83"
            ]
          },
          "metadata": {},
          "execution_count": 40
        }
      ]
    },
    {
      "cell_type": "code",
      "source": [
        "# Plot histogram of transaction amount with hue as chargeback status\n",
        "sns.displot(data = df, x = 'transaction_amount', hue ='has_cbk')"
      ],
      "metadata": {
        "id": "lRbnmcmwRzLz",
        "colab": {
          "base_uri": "https://localhost:8080/",
          "height": 524
        },
        "outputId": "e59843cf-4961-4dff-ac63-9429d41e64a0"
      },
      "execution_count": 41,
      "outputs": [
        {
          "output_type": "execute_result",
          "data": {
            "text/plain": [
              "<seaborn.axisgrid.FacetGrid at 0x7f41e96795d0>"
            ]
          },
          "metadata": {},
          "execution_count": 41
        },
        {
          "output_type": "display_data",
          "data": {
            "text/plain": [
              "<Figure size 584.875x500 with 1 Axes>"
            ],
            "image/png": "[encoded data removed]"
          },
          "metadata": {}
        }
      ]
    },
    {
      "cell_type": "code",
      "execution_count": 42,
      "metadata": {
        "id": "735f2c4d"
      },
      "outputs": [],
      "source": [
        "# Function: Reject transactions from USER that have had chargebacks in the past\n",
        "def has_chargeback(user_id):\n",
        "    return df[(df[\"user_id\"] == user_id) & (df[\"has_cbk\"] == True)].shape[0] > 0\n",
        "\n",
        "# Function: Reject transactions from CARD that have had chargebacks in the past\n",
        "def has_chargeback_card(card_number):\n",
        "    return df[(df[\"card_number\"] == card_number) & (df[\"has_cbk\"] == True)].shape[0] > 0\n",
        "\n",
        "# Function to apply the rules and get the recommendation\n",
        "def get_recommendation(transaction):\n",
        "\n",
        "    # Rule 1: Deny transactions if user_id or card_number has had chargebacks before\n",
        "    if has_chargeback(transaction[\"user_id\"]):\n",
        "        return \"deny\"\n",
        "\n",
        "    if  has_chargeback_card(transaction[\"card_number\"]):\n",
        "        return \"deny\"\n",
        "\n",
        "    # Rule 2: Deny transactions with high value and BIN with high chargeback rate\n",
        "    if (transaction['transaction_amount'] > 1000) & (df.query('percentual_bin > 22 and total_bin > 7')['card_bin'].isin([transaction['card_number'][:6]]).sum() > 0) & (df.query('has_cbk == True')['user_id'].isin([transaction['user_id']]).sum() > 0):\n",
        "      return \"deny\"\n",
        "\n",
        "    # Rule 3: Deny transactions if there have been 4 or more attempts of the same purchase within 5 minutes\n",
        "    recent_transactions = df[\n",
        "        (df[\"user_id\"] == transaction[\"user_id\"]) &\n",
        "        (df[\"transaction_id\"] == transaction[\"transaction_id\"])\n",
        "    ]\n",
        "    if len(recent_transactions) > 4:\n",
        "        transaction_date = datetime.strptime(transaction[\"transaction_date\"], \"%Y-%m-%dT%H:%M:%S.%f\")\n",
        "        if (datetime.now() - transaction_date) <= timedelta(minutes=5):\n",
        "            return \"deny\"\n",
        "\n",
        "    # If no rule denies the transaction, approve it\n",
        "    return \"approve\""
      ]
    },
    {
      "cell_type": "code",
      "source": [
        "# Transaction Request\n",
        "transaction = {\n",
        "    \"transaction_id\": 2342357,\n",
        "    \"merchant_id\": 29744,\n",
        "    \"user_id\": 97051,\n",
        "    \"card_number\": \"434505******9116\",\n",
        "    \"transaction_date\": \"2019-11-31T23:16:32.812632\",\n",
        "    \"transaction_amount\": 373,\n",
        "    \"device_id\": 285475\n",
        "}\n",
        "\n",
        "recommendation = get_recommendation(transaction)\n",
        "recommendation_data = {\n",
        "    \"transaction_id\": transaction[\"transaction_id\"],\n",
        "    \"recommendation\": recommendation\n",
        "}\n",
        "recommendation_json = json.dumps(recommendation_data, indent=4)\n",
        "print(recommendation_json)"
      ],
      "metadata": {
        "id": "5miiFs0iPu_2",
        "colab": {
          "base_uri": "https://localhost:8080/"
        },
        "outputId": "60d4edec-6280-4c39-c5e8-37736c3e60dd"
      },
      "execution_count": 43,
      "outputs": [
        {
          "output_type": "stream",
          "name": "stdout",
          "text": [
            "{\n",
            "    \"transaction_id\": 2342357,\n",
            "    \"recommendation\": \"approve\"\n",
            "}\n"
          ]
        }
      ]
    },
    {
      "cell_type": "code",
      "source": [
        "# Metrics to evaluate model: F1 Score and Confusion Matrix\n",
        "from sklearn.metrics import f1_score, confusion_matrix\n",
        "\n",
        "lista_preds = []\n",
        "label_map = {'deny': 0, 'approve': 1}\n",
        "\n",
        "for index, row in df[['transaction_id', 'merchant_id', 'user_id', 'card_number', 'transaction_date', 'transaction_amount', 'device_id']].iterrows():\n",
        "    lista_preds.append(get_recommendation({\n",
        "        \"transaction_id\": row['transaction_id'],\n",
        "        \"merchant_id\": row['merchant_id'],\n",
        "        \"user_id\": row['user_id'],\n",
        "        \"card_number\": row['card_number'],\n",
        "        \"transaction_date\": row['transaction_date'],\n",
        "        \"transaction_amount\": row['transaction_amount'],\n",
        "        \"device_id\": row['device_id']\n",
        "    }))\n",
        "\n",
        "# Convert the predictions from strings to numerical values\n",
        "lista_preds_numerical = [label_map[pred] for pred in lista_preds]\n",
        "\n",
        "# Calculate the confusion matrix and F1 score\n",
        "print(confusion_matrix(df['has_cbk'], lista_preds_numerical))\n",
        "print(f1_score(df['has_cbk'], lista_preds_numerical))"
      ],
      "metadata": {
        "id": "bR3-Qea_dPgz",
        "colab": {
          "base_uri": "https://localhost:8080/"
        },
        "outputId": "7f621300-b268-4a9e-e1a4-3f2581723ec0"
      },
      "execution_count": 44,
      "outputs": [
        {
          "output_type": "stream",
          "name": "stdout",
          "text": [
            "[[  70 2738]\n",
            " [ 391    0]]\n",
            "0.0\n"
          ]
        }
      ]
    }
  ]
}